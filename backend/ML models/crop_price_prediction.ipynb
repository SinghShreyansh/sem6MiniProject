{
  "nbformat": 4,
  "nbformat_minor": 0,
  "metadata": {
    "colab": {
      "provenance": []
    },
    "kernelspec": {
      "name": "python3",
      "display_name": "Python 3"
    },
    "language_info": {
      "name": "python"
    }
  },
  "cells": [
    {
      "cell_type": "code",
      "execution_count": 2,
      "metadata": {
        "colab": {
          "base_uri": "https://localhost:8080/",
          "height": 206
        },
        "id": "pL7GP63_KlJG",
        "outputId": "94f7d528-0d44-4889-f2b9-a6c9d3b1e665"
      },
      "outputs": [
        {
          "output_type": "execute_result",
          "data": {
            "text/plain": [
              "   Month  Year  Rainfall   WPI\n",
              "0      4  2012      47.5  84.3\n",
              "1      5  2012      31.7  79.5\n",
              "2      6  2012     117.8  80.2\n",
              "3      7  2012     250.2  78.8\n",
              "4      8  2012     262.4  78.1"
            ],
            "text/html": [
              "\n",
              "  <div id=\"df-6083ceb6-7ecc-4c96-a6c5-2b9689d8c609\">\n",
              "    <div class=\"colab-df-container\">\n",
              "      <div>\n",
              "<style scoped>\n",
              "    .dataframe tbody tr th:only-of-type {\n",
              "        vertical-align: middle;\n",
              "    }\n",
              "\n",
              "    .dataframe tbody tr th {\n",
              "        vertical-align: top;\n",
              "    }\n",
              "\n",
              "    .dataframe thead th {\n",
              "        text-align: right;\n",
              "    }\n",
              "</style>\n",
              "<table border=\"1\" class=\"dataframe\">\n",
              "  <thead>\n",
              "    <tr style=\"text-align: right;\">\n",
              "      <th></th>\n",
              "      <th>Month</th>\n",
              "      <th>Year</th>\n",
              "      <th>Rainfall</th>\n",
              "      <th>WPI</th>\n",
              "    </tr>\n",
              "  </thead>\n",
              "  <tbody>\n",
              "    <tr>\n",
              "      <th>0</th>\n",
              "      <td>4</td>\n",
              "      <td>2012</td>\n",
              "      <td>47.5</td>\n",
              "      <td>84.3</td>\n",
              "    </tr>\n",
              "    <tr>\n",
              "      <th>1</th>\n",
              "      <td>5</td>\n",
              "      <td>2012</td>\n",
              "      <td>31.7</td>\n",
              "      <td>79.5</td>\n",
              "    </tr>\n",
              "    <tr>\n",
              "      <th>2</th>\n",
              "      <td>6</td>\n",
              "      <td>2012</td>\n",
              "      <td>117.8</td>\n",
              "      <td>80.2</td>\n",
              "    </tr>\n",
              "    <tr>\n",
              "      <th>3</th>\n",
              "      <td>7</td>\n",
              "      <td>2012</td>\n",
              "      <td>250.2</td>\n",
              "      <td>78.8</td>\n",
              "    </tr>\n",
              "    <tr>\n",
              "      <th>4</th>\n",
              "      <td>8</td>\n",
              "      <td>2012</td>\n",
              "      <td>262.4</td>\n",
              "      <td>78.1</td>\n",
              "    </tr>\n",
              "  </tbody>\n",
              "</table>\n",
              "</div>\n",
              "      <button class=\"colab-df-convert\" onclick=\"convertToInteractive('df-6083ceb6-7ecc-4c96-a6c5-2b9689d8c609')\"\n",
              "              title=\"Convert this dataframe to an interactive table.\"\n",
              "              style=\"display:none;\">\n",
              "        \n",
              "  <svg xmlns=\"http://www.w3.org/2000/svg\" height=\"24px\"viewBox=\"0 0 24 24\"\n",
              "       width=\"24px\">\n",
              "    <path d=\"M0 0h24v24H0V0z\" fill=\"none\"/>\n",
              "    <path d=\"M18.56 5.44l.94 2.06.94-2.06 2.06-.94-2.06-.94-.94-2.06-.94 2.06-2.06.94zm-11 1L8.5 8.5l.94-2.06 2.06-.94-2.06-.94L8.5 2.5l-.94 2.06-2.06.94zm10 10l.94 2.06.94-2.06 2.06-.94-2.06-.94-.94-2.06-.94 2.06-2.06.94z\"/><path d=\"M17.41 7.96l-1.37-1.37c-.4-.4-.92-.59-1.43-.59-.52 0-1.04.2-1.43.59L10.3 9.45l-7.72 7.72c-.78.78-.78 2.05 0 2.83L4 21.41c.39.39.9.59 1.41.59.51 0 1.02-.2 1.41-.59l7.78-7.78 2.81-2.81c.8-.78.8-2.07 0-2.86zM5.41 20L4 18.59l7.72-7.72 1.47 1.35L5.41 20z\"/>\n",
              "  </svg>\n",
              "      </button>\n",
              "      \n",
              "  <style>\n",
              "    .colab-df-container {\n",
              "      display:flex;\n",
              "      flex-wrap:wrap;\n",
              "      gap: 12px;\n",
              "    }\n",
              "\n",
              "    .colab-df-convert {\n",
              "      background-color: #E8F0FE;\n",
              "      border: none;\n",
              "      border-radius: 50%;\n",
              "      cursor: pointer;\n",
              "      display: none;\n",
              "      fill: #1967D2;\n",
              "      height: 32px;\n",
              "      padding: 0 0 0 0;\n",
              "      width: 32px;\n",
              "    }\n",
              "\n",
              "    .colab-df-convert:hover {\n",
              "      background-color: #E2EBFA;\n",
              "      box-shadow: 0px 1px 2px rgba(60, 64, 67, 0.3), 0px 1px 3px 1px rgba(60, 64, 67, 0.15);\n",
              "      fill: #174EA6;\n",
              "    }\n",
              "\n",
              "    [theme=dark] .colab-df-convert {\n",
              "      background-color: #3B4455;\n",
              "      fill: #D2E3FC;\n",
              "    }\n",
              "\n",
              "    [theme=dark] .colab-df-convert:hover {\n",
              "      background-color: #434B5C;\n",
              "      box-shadow: 0px 1px 3px 1px rgba(0, 0, 0, 0.15);\n",
              "      filter: drop-shadow(0px 1px 2px rgba(0, 0, 0, 0.3));\n",
              "      fill: #FFFFFF;\n",
              "    }\n",
              "  </style>\n",
              "\n",
              "      <script>\n",
              "        const buttonEl =\n",
              "          document.querySelector('#df-6083ceb6-7ecc-4c96-a6c5-2b9689d8c609 button.colab-df-convert');\n",
              "        buttonEl.style.display =\n",
              "          google.colab.kernel.accessAllowed ? 'block' : 'none';\n",
              "\n",
              "        async function convertToInteractive(key) {\n",
              "          const element = document.querySelector('#df-6083ceb6-7ecc-4c96-a6c5-2b9689d8c609');\n",
              "          const dataTable =\n",
              "            await google.colab.kernel.invokeFunction('convertToInteractive',\n",
              "                                                     [key], {});\n",
              "          if (!dataTable) return;\n",
              "\n",
              "          const docLinkHtml = 'Like what you see? Visit the ' +\n",
              "            '<a target=\"_blank\" href=https://colab.research.google.com/notebooks/data_table.ipynb>data table notebook</a>'\n",
              "            + ' to learn more about interactive tables.';\n",
              "          element.innerHTML = '';\n",
              "          dataTable['output_type'] = 'display_data';\n",
              "          await google.colab.output.renderOutput(dataTable, element);\n",
              "          const docLink = document.createElement('div');\n",
              "          docLink.innerHTML = docLinkHtml;\n",
              "          element.appendChild(docLink);\n",
              "        }\n",
              "      </script>\n",
              "    </div>\n",
              "  </div>\n",
              "  "
            ]
          },
          "metadata": {},
          "execution_count": 2
        }
      ],
      "source": [
        "import os\n",
        "import numpy as np\n",
        "import pandas as pd\n",
        "from sklearn.tree import DecisionTreeRegressor\n",
        "from sklearn.ensemble import RandomForestRegressor\n",
        "from sklearn.model_selection import train_test_split\n",
        "from sklearn.model_selection import GridSearchCV\n",
        "import pickle\n",
        "\n",
        "df = pd.read_csv('coconut.csv')\n",
        "df.head()"
      ]
    },
    {
      "cell_type": "code",
      "source": [
        "X = df.iloc[:, :-1].values\n",
        "Y = df.iloc[:, 3].values\n",
        "\n",
        "param_grid = {'bootstrap': [True], \n",
        "              'max_depth': [5, 7, 10, None], \n",
        "              'max_features': ['auto', 'log2'], \n",
        "              'n_estimators': [5, 6, 7, 8, 9, 10, 11, 12, 13, 15]\n",
        "             }"
      ],
      "metadata": {
        "id": "MUz216rqNxjF"
      },
      "execution_count": 4,
      "outputs": []
    },
    {
      "cell_type": "code",
      "source": [
        "rfr = RandomForestRegressor(random_state = 1)\n",
        "\n",
        "g_search = GridSearchCV(estimator = rfr, param_grid = param_grid, \n",
        "\n",
        "                          cv = 4, n_jobs = -1, verbose = 0, return_train_score=True)\n",
        "g_search.fit(X, Y)"
      ],
      "metadata": {
        "colab": {
          "base_uri": "https://localhost:8080/",
          "height": 218
        },
        "id": "TqPDoqtqOC6n",
        "outputId": "dd209f85-3d71-4caf-dc9e-e73ccfb859ad"
      },
      "execution_count": 6,
      "outputs": [
        {
          "output_type": "stream",
          "name": "stderr",
          "text": [
            "/usr/local/lib/python3.9/dist-packages/sklearn/ensemble/_forest.py:413: FutureWarning: `max_features='auto'` has been deprecated in 1.1 and will be removed in 1.3. To keep the past behaviour, explicitly set `max_features=1.0` or remove this parameter as it is also the default value for RandomForestRegressors and ExtraTreesRegressors.\n",
            "  warn(\n"
          ]
        },
        {
          "output_type": "execute_result",
          "data": {
            "text/plain": [
              "GridSearchCV(cv=4, estimator=RandomForestRegressor(random_state=1), n_jobs=-1,\n",
              "             param_grid={'bootstrap': [True], 'max_depth': [5, 7, 10, None],\n",
              "                         'max_features': ['auto', 'log2'],\n",
              "                         'n_estimators': [5, 6, 7, 8, 9, 10, 11, 12, 13, 15]},\n",
              "             return_train_score=True)"
            ],
            "text/html": [
              "<style>#sk-container-id-1 {color: black;background-color: white;}#sk-container-id-1 pre{padding: 0;}#sk-container-id-1 div.sk-toggleable {background-color: white;}#sk-container-id-1 label.sk-toggleable__label {cursor: pointer;display: block;width: 100%;margin-bottom: 0;padding: 0.3em;box-sizing: border-box;text-align: center;}#sk-container-id-1 label.sk-toggleable__label-arrow:before {content: \"▸\";float: left;margin-right: 0.25em;color: #696969;}#sk-container-id-1 label.sk-toggleable__label-arrow:hover:before {color: black;}#sk-container-id-1 div.sk-estimator:hover label.sk-toggleable__label-arrow:before {color: black;}#sk-container-id-1 div.sk-toggleable__content {max-height: 0;max-width: 0;overflow: hidden;text-align: left;background-color: #f0f8ff;}#sk-container-id-1 div.sk-toggleable__content pre {margin: 0.2em;color: black;border-radius: 0.25em;background-color: #f0f8ff;}#sk-container-id-1 input.sk-toggleable__control:checked~div.sk-toggleable__content {max-height: 200px;max-width: 100%;overflow: auto;}#sk-container-id-1 input.sk-toggleable__control:checked~label.sk-toggleable__label-arrow:before {content: \"▾\";}#sk-container-id-1 div.sk-estimator input.sk-toggleable__control:checked~label.sk-toggleable__label {background-color: #d4ebff;}#sk-container-id-1 div.sk-label input.sk-toggleable__control:checked~label.sk-toggleable__label {background-color: #d4ebff;}#sk-container-id-1 input.sk-hidden--visually {border: 0;clip: rect(1px 1px 1px 1px);clip: rect(1px, 1px, 1px, 1px);height: 1px;margin: -1px;overflow: hidden;padding: 0;position: absolute;width: 1px;}#sk-container-id-1 div.sk-estimator {font-family: monospace;background-color: #f0f8ff;border: 1px dotted black;border-radius: 0.25em;box-sizing: border-box;margin-bottom: 0.5em;}#sk-container-id-1 div.sk-estimator:hover {background-color: #d4ebff;}#sk-container-id-1 div.sk-parallel-item::after {content: \"\";width: 100%;border-bottom: 1px solid gray;flex-grow: 1;}#sk-container-id-1 div.sk-label:hover label.sk-toggleable__label {background-color: #d4ebff;}#sk-container-id-1 div.sk-serial::before {content: \"\";position: absolute;border-left: 1px solid gray;box-sizing: border-box;top: 0;bottom: 0;left: 50%;z-index: 0;}#sk-container-id-1 div.sk-serial {display: flex;flex-direction: column;align-items: center;background-color: white;padding-right: 0.2em;padding-left: 0.2em;position: relative;}#sk-container-id-1 div.sk-item {position: relative;z-index: 1;}#sk-container-id-1 div.sk-parallel {display: flex;align-items: stretch;justify-content: center;background-color: white;position: relative;}#sk-container-id-1 div.sk-item::before, #sk-container-id-1 div.sk-parallel-item::before {content: \"\";position: absolute;border-left: 1px solid gray;box-sizing: border-box;top: 0;bottom: 0;left: 50%;z-index: -1;}#sk-container-id-1 div.sk-parallel-item {display: flex;flex-direction: column;z-index: 1;position: relative;background-color: white;}#sk-container-id-1 div.sk-parallel-item:first-child::after {align-self: flex-end;width: 50%;}#sk-container-id-1 div.sk-parallel-item:last-child::after {align-self: flex-start;width: 50%;}#sk-container-id-1 div.sk-parallel-item:only-child::after {width: 0;}#sk-container-id-1 div.sk-dashed-wrapped {border: 1px dashed gray;margin: 0 0.4em 0.5em 0.4em;box-sizing: border-box;padding-bottom: 0.4em;background-color: white;}#sk-container-id-1 div.sk-label label {font-family: monospace;font-weight: bold;display: inline-block;line-height: 1.2em;}#sk-container-id-1 div.sk-label-container {text-align: center;}#sk-container-id-1 div.sk-container {/* jupyter's `normalize.less` sets `[hidden] { display: none; }` but bootstrap.min.css set `[hidden] { display: none !important; }` so we also need the `!important` here to be able to override the default hidden behavior on the sphinx rendered scikit-learn.org. See: https://github.com/scikit-learn/scikit-learn/issues/21755 */display: inline-block !important;position: relative;}#sk-container-id-1 div.sk-text-repr-fallback {display: none;}</style><div id=\"sk-container-id-1\" class=\"sk-top-container\"><div class=\"sk-text-repr-fallback\"><pre>GridSearchCV(cv=4, estimator=RandomForestRegressor(random_state=1), n_jobs=-1,\n",
              "             param_grid={&#x27;bootstrap&#x27;: [True], &#x27;max_depth&#x27;: [5, 7, 10, None],\n",
              "                         &#x27;max_features&#x27;: [&#x27;auto&#x27;, &#x27;log2&#x27;],\n",
              "                         &#x27;n_estimators&#x27;: [5, 6, 7, 8, 9, 10, 11, 12, 13, 15]},\n",
              "             return_train_score=True)</pre><b>In a Jupyter environment, please rerun this cell to show the HTML representation or trust the notebook. <br />On GitHub, the HTML representation is unable to render, please try loading this page with nbviewer.org.</b></div><div class=\"sk-container\" hidden><div class=\"sk-item sk-dashed-wrapped\"><div class=\"sk-label-container\"><div class=\"sk-label sk-toggleable\"><input class=\"sk-toggleable__control sk-hidden--visually\" id=\"sk-estimator-id-1\" type=\"checkbox\" ><label for=\"sk-estimator-id-1\" class=\"sk-toggleable__label sk-toggleable__label-arrow\">GridSearchCV</label><div class=\"sk-toggleable__content\"><pre>GridSearchCV(cv=4, estimator=RandomForestRegressor(random_state=1), n_jobs=-1,\n",
              "             param_grid={&#x27;bootstrap&#x27;: [True], &#x27;max_depth&#x27;: [5, 7, 10, None],\n",
              "                         &#x27;max_features&#x27;: [&#x27;auto&#x27;, &#x27;log2&#x27;],\n",
              "                         &#x27;n_estimators&#x27;: [5, 6, 7, 8, 9, 10, 11, 12, 13, 15]},\n",
              "             return_train_score=True)</pre></div></div></div><div class=\"sk-parallel\"><div class=\"sk-parallel-item\"><div class=\"sk-item\"><div class=\"sk-label-container\"><div class=\"sk-label sk-toggleable\"><input class=\"sk-toggleable__control sk-hidden--visually\" id=\"sk-estimator-id-2\" type=\"checkbox\" ><label for=\"sk-estimator-id-2\" class=\"sk-toggleable__label sk-toggleable__label-arrow\">estimator: RandomForestRegressor</label><div class=\"sk-toggleable__content\"><pre>RandomForestRegressor(random_state=1)</pre></div></div></div><div class=\"sk-serial\"><div class=\"sk-item\"><div class=\"sk-estimator sk-toggleable\"><input class=\"sk-toggleable__control sk-hidden--visually\" id=\"sk-estimator-id-3\" type=\"checkbox\" ><label for=\"sk-estimator-id-3\" class=\"sk-toggleable__label sk-toggleable__label-arrow\">RandomForestRegressor</label><div class=\"sk-toggleable__content\"><pre>RandomForestRegressor(random_state=1)</pre></div></div></div></div></div></div></div></div></div></div>"
            ]
          },
          "metadata": {},
          "execution_count": 6
        }
      ]
    },
    {
      "cell_type": "code",
      "source": [
        "print(g_search.best_params_)\n",
        "print(g_search.best_score_)"
      ],
      "metadata": {
        "colab": {
          "base_uri": "https://localhost:8080/"
        },
        "id": "0vI5g96LOP5f",
        "outputId": "a3be6771-7617-478e-c76d-13bc8bc3135a"
      },
      "execution_count": 8,
      "outputs": [
        {
          "output_type": "stream",
          "name": "stdout",
          "text": [
            "{'bootstrap': True, 'max_depth': 5, 'max_features': 'auto', 'n_estimators': 13}\n",
            "-14.842653794484113\n"
          ]
        }
      ]
    },
    {
      "cell_type": "code",
      "source": [
        "rfr = RandomForestRegressor(random_state = 1, max_depth = 5, max_features = 'auto', n_estimators = 13)\n",
        "rfr.fit(X, Y)\n",
        "\n",
        "x = [5, 2012, 31.7]\n",
        "rfr.predict(np.array(x).reshape(1, -1))"
      ],
      "metadata": {
        "colab": {
          "base_uri": "https://localhost:8080/"
        },
        "id": "rsQVvlKBOaf8",
        "outputId": "0cdb25c2-81dc-4fe7-fcb7-d229a399efee"
      },
      "execution_count": 10,
      "outputs": [
        {
          "output_type": "stream",
          "name": "stderr",
          "text": [
            "/usr/local/lib/python3.9/dist-packages/sklearn/ensemble/_forest.py:413: FutureWarning: `max_features='auto'` has been deprecated in 1.1 and will be removed in 1.3. To keep the past behaviour, explicitly set `max_features=1.0` or remove this parameter as it is also the default value for RandomForestRegressors and ExtraTreesRegressors.\n",
            "  warn(\n"
          ]
        },
        {
          "output_type": "execute_result",
          "data": {
            "text/plain": [
              "array([80.39156593])"
            ]
          },
          "metadata": {},
          "execution_count": 10
        }
      ]
    },
    {
      "cell_type": "code",
      "source": [
        "pickle.dump(rfr, open('../coconut_price_prediction.pkl', \"wb\"))"
      ],
      "metadata": {
        "id": "1sjLxCDAOnjb"
      },
      "execution_count": 11,
      "outputs": []
    },
    {
      "cell_type": "markdown",
      "source": [
        "**Cotton Model Training**"
      ],
      "metadata": {
        "id": "XM5cvg_3P1Y1"
      }
    },
    {
      "cell_type": "code",
      "source": [
        "df = pd.read_csv('Cotton.csv')\n",
        "df.head()\n",
        "\n",
        "X = df.iloc[:, :-1].values\n",
        "Y = df.iloc[:, 3].values\n",
        "\n",
        "param_grid = {'bootstrap': [True], \n",
        "              'max_depth': [5, 7, 10, None], \n",
        "              'max_features': ['auto', 'log2'], \n",
        "              'n_estimators': [5, 6, 7, 8, 9, 10, 11, 12, 13, 15]\n",
        "             }\n",
        "rfr = RandomForestRegressor(random_state = 1)\n",
        "\n",
        "g_search = GridSearchCV(estimator = rfr, param_grid = param_grid, \n",
        "\n",
        "                          cv = 4, n_jobs = -1, verbose = 0, return_train_score=True)\n",
        "g_search.fit(X, Y)\n",
        "\n",
        "print(g_search.best_params_)\n",
        "print(g_search.best_score_)"
      ],
      "metadata": {
        "colab": {
          "base_uri": "https://localhost:8080/"
        },
        "id": "d0MakANqP84C",
        "outputId": "bde73ff9-14ca-4dfc-f6a4-1a780b0a27e5"
      },
      "execution_count": 13,
      "outputs": [
        {
          "output_type": "stream",
          "name": "stdout",
          "text": [
            "{'bootstrap': True, 'max_depth': 5, 'max_features': 'log2', 'n_estimators': 15}\n",
            "-9.261141444122277\n"
          ]
        }
      ]
    },
    {
      "cell_type": "code",
      "source": [
        "rfr = RandomForestRegressor(random_state = 1, max_depth = 5, max_features = 'log2', n_estimators = 15)\n",
        "rfr.fit(X, Y)\n",
        "\n",
        "x = [5, 2018, 31.7]\n",
        "rfr.predict(np.array(x).reshape(1, -1))"
      ],
      "metadata": {
        "colab": {
          "base_uri": "https://localhost:8080/"
        },
        "id": "IiRpAiSMQTif",
        "outputId": "2c802397-9e95-4174-d1e6-1a27de462e24"
      },
      "execution_count": 15,
      "outputs": [
        {
          "output_type": "execute_result",
          "data": {
            "text/plain": [
              "array([137.66575896])"
            ]
          },
          "metadata": {},
          "execution_count": 15
        }
      ]
    },
    {
      "cell_type": "code",
      "source": [
        "pickle.dump(rfr, open('../cotton_price_prediction.pkl', \"wb\"))"
      ],
      "metadata": {
        "id": "WL_ZzFm1QY6_"
      },
      "execution_count": 16,
      "outputs": []
    },
    {
      "cell_type": "markdown",
      "source": [
        "**Gram Model Training**"
      ],
      "metadata": {
        "id": "YnqbbCNyQ7Tl"
      }
    },
    {
      "cell_type": "code",
      "source": [
        "df = pd.read_csv('Gram.csv')\n",
        "df.head()\n",
        "\n",
        "X = df.iloc[:, :-1].values\n",
        "Y = df.iloc[:, 3].values\n",
        "\n",
        "param_grid = {'bootstrap': [True], \n",
        "              'max_depth': [5, 7, 10, None], \n",
        "              'max_features': ['auto', 'log2'], \n",
        "              'n_estimators': [5, 6, 7, 8, 9, 10, 11, 12, 13, 15]\n",
        "             }\n",
        "rfr = RandomForestRegressor(random_state = 1)\n",
        "\n",
        "g_search = GridSearchCV(estimator = rfr, param_grid = param_grid, \n",
        "\n",
        "                          cv = 4, n_jobs = -1, verbose = 0, return_train_score=True)\n",
        "g_search.fit(X, Y)\n",
        "\n",
        "print(g_search.best_params_)\n",
        "print(g_search.best_score_)"
      ],
      "metadata": {
        "colab": {
          "base_uri": "https://localhost:8080/"
        },
        "id": "39SVpoiORAY3",
        "outputId": "9af2ab88-5b9a-4500-bc4e-71ec1b897231"
      },
      "execution_count": 17,
      "outputs": [
        {
          "output_type": "stream",
          "name": "stdout",
          "text": [
            "{'bootstrap': True, 'max_depth': 10, 'max_features': 'log2', 'n_estimators': 15}\n",
            "-2.9667390638268367\n"
          ]
        }
      ]
    },
    {
      "cell_type": "code",
      "source": [
        "rfr = RandomForestRegressor(random_state = 1, max_depth = 10, max_features = 'log2', n_estimators = 15)\n",
        "rfr.fit(X, Y)\n",
        "\n",
        "x = [5, 2018, 31.7]\n",
        "rfr.predict(np.array(x).reshape(1, -1))"
      ],
      "metadata": {
        "colab": {
          "base_uri": "https://localhost:8080/"
        },
        "id": "tjw5XNBmRIwg",
        "outputId": "146a0450-b857-4202-c3a2-772094d715cf"
      },
      "execution_count": 18,
      "outputs": [
        {
          "output_type": "execute_result",
          "data": {
            "text/plain": [
              "array([141.73111111])"
            ]
          },
          "metadata": {},
          "execution_count": 18
        }
      ]
    },
    {
      "cell_type": "code",
      "source": [
        "pickle.dump(rfr, open('../black_gram_price_prediction.pkl', \"wb\"))"
      ],
      "metadata": {
        "id": "MTuS2t3hRPki"
      },
      "execution_count": 19,
      "outputs": []
    },
    {
      "cell_type": "markdown",
      "source": [
        "**Jute Model Training**"
      ],
      "metadata": {
        "id": "-mqne7tNRcvl"
      }
    },
    {
      "cell_type": "code",
      "source": [
        "df = pd.read_csv('Jute.csv')\n",
        "df.head()\n",
        "\n",
        "X = df.iloc[:, :-1].values\n",
        "Y = df.iloc[:, 3].values\n",
        "\n",
        "param_grid = {'bootstrap': [True], \n",
        "              'max_depth': [5, 7, 10, None], \n",
        "              'max_features': ['auto', 'log2'], \n",
        "              'n_estimators': [5, 6, 7, 8, 9, 10, 11, 12, 13, 15]\n",
        "             }\n",
        "rfr = RandomForestRegressor(random_state = 1)\n",
        "\n",
        "g_search = GridSearchCV(estimator = rfr, param_grid = param_grid, \n",
        "\n",
        "                          cv = 4, n_jobs = -1, verbose = 0, return_train_score=True)\n",
        "g_search.fit(X, Y)\n",
        "\n",
        "print(g_search.best_params_)\n",
        "print(g_search.best_score_)"
      ],
      "metadata": {
        "colab": {
          "base_uri": "https://localhost:8080/"
        },
        "id": "3e97wLeMRf5r",
        "outputId": "c4f6e393-e841-451b-d4dc-2d25e39727aa"
      },
      "execution_count": 21,
      "outputs": [
        {
          "output_type": "stream",
          "name": "stdout",
          "text": [
            "{'bootstrap': True, 'max_depth': 10, 'max_features': 'log2', 'n_estimators': 12}\n",
            "-6.651851338952283\n"
          ]
        }
      ]
    },
    {
      "cell_type": "code",
      "source": [
        "rfr = RandomForestRegressor(random_state = 1, max_depth = 10, max_features = 'log2', n_estimators = 12)\n",
        "rfr.fit(X, Y)\n",
        "\n",
        "x = [5, 2018, 31.7]\n",
        "rfr.predict(np.array(x).reshape(1, -1))"
      ],
      "metadata": {
        "colab": {
          "base_uri": "https://localhost:8080/"
        },
        "id": "x9YmPP1kRs7H",
        "outputId": "c71a0353-8197-4fc1-a380-8e92a4bef19f"
      },
      "execution_count": 22,
      "outputs": [
        {
          "output_type": "execute_result",
          "data": {
            "text/plain": [
              "array([166.855])"
            ]
          },
          "metadata": {},
          "execution_count": 22
        }
      ]
    },
    {
      "cell_type": "code",
      "source": [
        "pickle.dump(rfr, open('../jute_price_prediction.pkl', \"wb\"))"
      ],
      "metadata": {
        "id": "IJtZOMa0Rxuj"
      },
      "execution_count": 24,
      "outputs": []
    },
    {
      "cell_type": "markdown",
      "source": [
        "**Maize Model Training**"
      ],
      "metadata": {
        "id": "MOmJS2FESDpn"
      }
    },
    {
      "cell_type": "code",
      "source": [
        "df = pd.read_csv('Maize.csv')\n",
        "df.head()\n",
        "\n",
        "X = df.iloc[:, :-1].values\n",
        "Y = df.iloc[:, 3].values\n",
        "\n",
        "param_grid = {'bootstrap': [True], \n",
        "              'max_depth': [5, 7, 10, None], \n",
        "              'max_features': ['auto', 'log2'], \n",
        "              'n_estimators': [5, 6, 7, 8, 9, 10, 11, 12, 13, 15]\n",
        "             }\n",
        "rfr = RandomForestRegressor(random_state = 1)\n",
        "\n",
        "g_search = GridSearchCV(estimator = rfr, param_grid = param_grid, \n",
        "\n",
        "                          cv = 4, n_jobs = -1, verbose = 0, return_train_score=True)\n",
        "g_search.fit(X, Y)\n",
        "\n",
        "print(g_search.best_params_)\n",
        "print(g_search.best_score_)"
      ],
      "metadata": {
        "colab": {
          "base_uri": "https://localhost:8080/"
        },
        "id": "jVYQt2cQSHik",
        "outputId": "8c0f1c66-0119-4a10-a26f-cb50660e726d"
      },
      "execution_count": 26,
      "outputs": [
        {
          "output_type": "stream",
          "name": "stdout",
          "text": [
            "{'bootstrap': True, 'max_depth': 5, 'max_features': 'auto', 'n_estimators': 15}\n",
            "-3.4795911589670245\n"
          ]
        },
        {
          "output_type": "stream",
          "name": "stderr",
          "text": [
            "/usr/local/lib/python3.9/dist-packages/sklearn/ensemble/_forest.py:413: FutureWarning: `max_features='auto'` has been deprecated in 1.1 and will be removed in 1.3. To keep the past behaviour, explicitly set `max_features=1.0` or remove this parameter as it is also the default value for RandomForestRegressors and ExtraTreesRegressors.\n",
            "  warn(\n"
          ]
        }
      ]
    },
    {
      "cell_type": "code",
      "source": [
        "rfr = RandomForestRegressor(random_state = 1, max_depth = 5, max_features = 'auto', n_estimators = 15)\n",
        "rfr.fit(X, Y)\n",
        "\n",
        "x = [5, 2018, 31.7]\n",
        "rfr.predict(np.array(x).reshape(1, -1))"
      ],
      "metadata": {
        "colab": {
          "base_uri": "https://localhost:8080/"
        },
        "id": "c6zeYYVJSQyy",
        "outputId": "7ce6fac3-2897-45ba-ea94-9f468d8cfb23"
      },
      "execution_count": 27,
      "outputs": [
        {
          "output_type": "stream",
          "name": "stderr",
          "text": [
            "/usr/local/lib/python3.9/dist-packages/sklearn/ensemble/_forest.py:413: FutureWarning: `max_features='auto'` has been deprecated in 1.1 and will be removed in 1.3. To keep the past behaviour, explicitly set `max_features=1.0` or remove this parameter as it is also the default value for RandomForestRegressors and ExtraTreesRegressors.\n",
            "  warn(\n"
          ]
        },
        {
          "output_type": "execute_result",
          "data": {
            "text/plain": [
              "array([117.58527778])"
            ]
          },
          "metadata": {},
          "execution_count": 27
        }
      ]
    },
    {
      "cell_type": "code",
      "source": [
        "pickle.dump(rfr, open('../maize_price_prediction.pkl', \"wb\"))"
      ],
      "metadata": {
        "id": "c2Sgw3L5SZSf"
      },
      "execution_count": 28,
      "outputs": []
    },
    {
      "cell_type": "markdown",
      "source": [
        "**Moong Model Training**"
      ],
      "metadata": {
        "id": "y6qcnAZmSn1L"
      }
    },
    {
      "cell_type": "code",
      "source": [
        "df = pd.read_csv('Moong.csv')\n",
        "df.head()\n",
        "\n",
        "X = df.iloc[:, :-1].values\n",
        "Y = df.iloc[:, 3].values\n",
        "\n",
        "param_grid = {'bootstrap': [True], \n",
        "              'max_depth': [5, 7, 10, None], \n",
        "              'max_features': ['auto', 'log2'], \n",
        "              'n_estimators': [5, 6, 7, 8, 9, 10, 11, 12, 13, 15]\n",
        "             }\n",
        "rfr = RandomForestRegressor(random_state = 1)\n",
        "\n",
        "g_search = GridSearchCV(estimator = rfr, param_grid = param_grid, \n",
        "\n",
        "                          cv = 4, n_jobs = -1, verbose = 0, return_train_score=True)\n",
        "g_search.fit(X, Y)\n",
        "\n",
        "print(g_search.best_params_)\n",
        "print(g_search.best_score_)"
      ],
      "metadata": {
        "colab": {
          "base_uri": "https://localhost:8080/"
        },
        "id": "Gre5GTQFSqUG",
        "outputId": "2b20fafe-c24b-433b-fe3f-14c62fb8f817"
      },
      "execution_count": 29,
      "outputs": [
        {
          "output_type": "stream",
          "name": "stdout",
          "text": [
            "{'bootstrap': True, 'max_depth': 5, 'max_features': 'auto', 'n_estimators': 5}\n",
            "-2.5871558752251396\n"
          ]
        },
        {
          "output_type": "stream",
          "name": "stderr",
          "text": [
            "/usr/local/lib/python3.9/dist-packages/sklearn/ensemble/_forest.py:413: FutureWarning: `max_features='auto'` has been deprecated in 1.1 and will be removed in 1.3. To keep the past behaviour, explicitly set `max_features=1.0` or remove this parameter as it is also the default value for RandomForestRegressors and ExtraTreesRegressors.\n",
            "  warn(\n"
          ]
        }
      ]
    },
    {
      "cell_type": "code",
      "source": [
        "rfr = RandomForestRegressor(random_state = 1, max_depth = 5, max_features = 'auto', n_estimators = 5)\n",
        "rfr.fit(X, Y)\n",
        "\n",
        "x = [12, 2018, 35]\n",
        "rfr.predict(np.array(x).reshape(1, -1))"
      ],
      "metadata": {
        "colab": {
          "base_uri": "https://localhost:8080/"
        },
        "id": "pBh1PAuMSvhd",
        "outputId": "703e415e-76ac-404b-d458-1a6248ae7b0e"
      },
      "execution_count": 30,
      "outputs": [
        {
          "output_type": "stream",
          "name": "stderr",
          "text": [
            "/usr/local/lib/python3.9/dist-packages/sklearn/ensemble/_forest.py:413: FutureWarning: `max_features='auto'` has been deprecated in 1.1 and will be removed in 1.3. To keep the past behaviour, explicitly set `max_features=1.0` or remove this parameter as it is also the default value for RandomForestRegressors and ExtraTreesRegressors.\n",
            "  warn(\n"
          ]
        },
        {
          "output_type": "execute_result",
          "data": {
            "text/plain": [
              "array([117.64])"
            ]
          },
          "metadata": {},
          "execution_count": 30
        }
      ]
    },
    {
      "cell_type": "code",
      "source": [
        "pickle.dump(rfr, open('../moong_price_prediction.pkl', \"wb\"))"
      ],
      "metadata": {
        "id": "QLjgDAjMS57u"
      },
      "execution_count": 31,
      "outputs": []
    }
  ]
}